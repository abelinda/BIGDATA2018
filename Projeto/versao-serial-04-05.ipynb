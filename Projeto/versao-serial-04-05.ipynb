{
 "cells": [
  {
   "cell_type": "code",
   "execution_count": 1,
   "metadata": {},
   "outputs": [],
   "source": [
    "#importa pacotes para usar SQL no contexto do Spark\n",
    "from pyspark.sql import SQLContext\n",
    "from pyspark.sql.types import *\n",
    "sqlContext = SQLContext(sc)"
   ]
  },
  {
   "cell_type": "code",
   "execution_count": 2,
   "metadata": {},
   "outputs": [],
   "source": [
    "#roda e lê a base\n",
    "data = sqlContext.read.load('file:///C:/Spark/projetos/Data/base.csv', \n",
    "                          format='com.databricks.spark.csv', \n",
    "                          header='true', \n",
    "                          inferSchema='true')"
   ]
  },
  {
   "cell_type": "code",
   "execution_count": 3,
   "metadata": {},
   "outputs": [
    {
     "name": "stdout",
     "output_type": "stream",
     "text": [
      "+--------+-------------+--------+--------+------------------+-------+----------+-------------------+---------------+--------------------+--------------+---------------------+-------------+-----+-----+----------+-----------+--------------------+\n",
      "|   CAMIS|          DBA|    BORO|BUILDING|            STREET|ZIPCODE|     PHONE|CUISINE DESCRIPTION|INSPECTION DATE|              ACTION|VIOLATION CODE|VIOLATION DESCRIPTION|CRITICAL FLAG|SCORE|GRADE|GRADE DATE|RECORD DATE|     INSPECTION TYPE|\n",
      "+--------+-------------+--------+--------+------------------+-------+----------+-------------------+---------------+--------------------+--------------+---------------------+-------------+-----+-----+----------+-----------+--------------------+\n",
      "|50074025|    LILA CAFE|BROOKLYN|     911|        DEKALB AVE|  11221|3475292886|          Caribbean|     03/27/2018|Violations were c...|           10F| Non-food contact ...| Not Critical|   33| null|      null| 04/26/2018|Pre-permit (Non-o...|\n",
      "|41573314|SABANA LOUNGE|   BRONX|    1460|WESTCHESTER AVENUE|  10472|7186207100|            Spanish|     05/08/2015|Violations were c...|           10F| Non-food contact ...| Not Critical|    7|    A|05/08/2015| 04/26/2018|Cycle Inspection ...|\n",
      "+--------+-------------+--------+--------+------------------+-------+----------+-------------------+---------------+--------------------+--------------+---------------------+-------------+-----+-----+----------+-----------+--------------------+\n",
      "only showing top 2 rows\n",
      "\n"
     ]
    }
   ],
   "source": [
    "#mostra as duas primeiras linhas da base\n",
    "data.show(2)"
   ]
  },
  {
   "cell_type": "code",
   "execution_count": 4,
   "metadata": {},
   "outputs": [
    {
     "name": "stdout",
     "output_type": "stream",
     "text": [
      "root\n",
      " |-- CAMIS: integer (nullable = true)\n",
      " |-- DBA: string (nullable = true)\n",
      " |-- BORO: string (nullable = true)\n",
      " |-- BUILDING: string (nullable = true)\n",
      " |-- STREET: string (nullable = true)\n",
      " |-- ZIPCODE: string (nullable = true)\n",
      " |-- PHONE: string (nullable = true)\n",
      " |-- CUISINE DESCRIPTION: string (nullable = true)\n",
      " |-- INSPECTION DATE: string (nullable = true)\n",
      " |-- ACTION: string (nullable = true)\n",
      " |-- VIOLATION CODE: string (nullable = true)\n",
      " |-- VIOLATION DESCRIPTION: string (nullable = true)\n",
      " |-- CRITICAL FLAG: string (nullable = true)\n",
      " |-- SCORE: integer (nullable = true)\n",
      " |-- GRADE: string (nullable = true)\n",
      " |-- GRADE DATE: string (nullable = true)\n",
      " |-- RECORD DATE: string (nullable = true)\n",
      " |-- INSPECTION TYPE: string (nullable = true)\n",
      "\n"
     ]
    }
   ],
   "source": [
    "#imprime os rótulos e tipos de dado da base\n",
    "data.printSchema()"
   ]
  },
  {
   "cell_type": "code",
   "execution_count": 5,
   "metadata": {},
   "outputs": [],
   "source": [
    "#exclui os dados não rotulados\n",
    "data = data[~data['CRITICAL FLAG'].isin(['Not Applicable'])]\n",
    "#retira as colunas da tabela que não serão utilizadas na classificação\n",
    "drop_list = ['CAMIS', 'DBA', 'BORO', 'BUILDING', 'STREET', 'ZIPCODE','CUISINE DESCRIPTION', 'PHONE', 'INSPECTION DATE', 'ACTION', 'VIOLATION CODE', 'SCORE', 'GRADE', 'GRADE DATE', 'RECORD DATE', 'INSPECTION TYPE']"
   ]
  },
  {
   "cell_type": "code",
   "execution_count": 6,
   "metadata": {},
   "outputs": [
    {
     "name": "stdout",
     "output_type": "stream",
     "text": [
      "+---------------------+-------------+\n",
      "|VIOLATION DESCRIPTION|CRITICAL FLAG|\n",
      "+---------------------+-------------+\n",
      "| Non-food contact ...| Not Critical|\n",
      "| Non-food contact ...| Not Critical|\n",
      "| Non-food contact ...| Not Critical|\n",
      "| Non-food contact ...| Not Critical|\n",
      "| Food contact surf...|     Critical|\n",
      "+---------------------+-------------+\n",
      "only showing top 5 rows\n",
      "\n"
     ]
    }
   ],
   "source": [
    "#mostra as colunas que serão utilizadas na classificação\n",
    "#CRITICAL FLAG É A COLUNA COM OS CLASSIFICADORES\n",
    "data = data.select([column for column in data.columns if column not in drop_list])\n",
    "data.show(5)"
   ]
  },
  {
   "cell_type": "code",
   "execution_count": 7,
   "metadata": {},
   "outputs": [
    {
     "name": "stdout",
     "output_type": "stream",
     "text": [
      "root\n",
      " |-- VIOLATION DESCRIPTION: string (nullable = true)\n",
      " |-- CRITICAL FLAG: string (nullable = true)\n",
      "\n"
     ]
    }
   ],
   "source": [
    "#imprime os rótulos e tipos de dado da base\n",
    "data.printSchema()"
   ]
  },
  {
   "cell_type": "code",
   "execution_count": 8,
   "metadata": {},
   "outputs": [
    {
     "name": "stdout",
     "output_type": "stream",
     "text": [
      "+-------------+------+\n",
      "|CRITICAL FLAG| count|\n",
      "+-------------+------+\n",
      "|     Critical|204546|\n",
      "| Not Critical|162077|\n",
      "+-------------+------+\n",
      "\n"
     ]
    }
   ],
   "source": [
    "#conta quantas linhas há para cada classificador\n",
    "from pyspark.sql.functions import col\n",
    "data.groupBy(\"CRITICAL FLAG\") \\\n",
    "    .count() \\\n",
    "    .orderBy(col(\"count\").desc()) \\\n",
    "    .show()"
   ]
  },
  {
   "cell_type": "code",
   "execution_count": 9,
   "metadata": {
    "scrolled": true
   },
   "outputs": [
    {
     "name": "stdout",
     "output_type": "stream",
     "text": [
      "+---------------------+-----+\n",
      "|VIOLATION DESCRIPTION|count|\n",
      "+---------------------+-----+\n",
      "| Non-food contact ...|52814|\n",
      "| Facility not verm...|38420|\n",
      "| Evidence of mice ...|26858|\n",
      "| Food not protecte...|25364|\n",
      "| Food contact surf...|25240|\n",
      "+---------------------+-----+\n",
      "only showing top 5 rows\n",
      "\n"
     ]
    }
   ],
   "source": [
    "#conta as principais descrições\n",
    "data.groupBy(\"VIOLATION DESCRIPTION\") \\\n",
    "    .count() \\\n",
    "    .orderBy(col(\"count\").desc()) \\\n",
    "    .show(5)"
   ]
  },
  {
   "cell_type": "code",
   "execution_count": 10,
   "metadata": {},
   "outputs": [],
   "source": [
    "#importa pacotes para tokenizar, remover stopwords e vetorizar\n",
    "from pyspark.ml.feature import RegexTokenizer, StopWordsRemover, CountVectorizer\n",
    "from pyspark.ml.classification import LogisticRegression\n",
    "# regular expression tokenizer\n",
    "regexTokenizer = RegexTokenizer(inputCol=\"VIOLATION DESCRIPTION\", outputCol=\"words\", pattern=\"\\\\W\")\n",
    "# stop words\n",
    "#usando stop list of 25 semantically non-selective words which are common in Reuters-RCV1.\n",
    "add_stopwords = [\"a\",\"an\", \"and\", \"are\", \"as\", \"at\", \"be\", \"by\", \"for\", \"from\", \"has\", \"he\", \"in\", \"is\", \"it\", \"its\", \"of\", \"on\", \"that\", \"the\", \"to\", \"was\", \"were\", \"will\", \"with\"] \n",
    "stopwordsRemover = StopWordsRemover(inputCol=\"words\", outputCol=\"filtered\").setStopWords(add_stopwords)\n",
    "# bag of words\n",
    "countVectors = CountVectorizer(inputCol=\"filtered\", outputCol=\"features\", vocabSize=10000, minDF=5)"
   ]
  },
  {
   "cell_type": "code",
   "execution_count": 11,
   "metadata": {},
   "outputs": [],
   "source": [
    "#cria rótulos númericos para os classificadores\n",
    "from pyspark.ml import Pipeline\n",
    "from pyspark.ml.feature import OneHotEncoder, StringIndexer, VectorAssembler\n",
    "label_stringIdx = StringIndexer(inputCol = \"CRITICAL FLAG\", outputCol = \"label\")\n",
    "pipeline = Pipeline(stages=[regexTokenizer, stopwordsRemover, countVectors, label_stringIdx])"
   ]
  },
  {
   "cell_type": "code",
   "execution_count": 12,
   "metadata": {},
   "outputs": [
    {
     "name": "stdout",
     "output_type": "stream",
     "text": [
      "+---------------------+-------------+--------------------+--------------------+--------------------+-----+\n",
      "|VIOLATION DESCRIPTION|CRITICAL FLAG|               words|            filtered|            features|label|\n",
      "+---------------------+-------------+--------------------+--------------------+--------------------+-----+\n",
      "| Non-food contact ...| Not Critical|[non, food, conta...|[non, food, conta...|(528,[0,1,2,4,5,6...|  1.0|\n",
      "| Non-food contact ...| Not Critical|[non, food, conta...|[non, food, conta...|(528,[0,1,2,4,5,6...|  1.0|\n",
      "| Non-food contact ...| Not Critical|[non, food, conta...|[non, food, conta...|(528,[0,1,2,4,5,6...|  1.0|\n",
      "| Non-food contact ...| Not Critical|[non, food, conta...|[non, food, conta...|(528,[0,1,2,4,5,6...|  1.0|\n",
      "| Food contact surf...|     Critical|[food, contact, s...|[food, contact, s...|(528,[1,2,5,6,7,3...|  0.0|\n",
      "+---------------------+-------------+--------------------+--------------------+--------------------+-----+\n",
      "only showing top 5 rows\n",
      "\n"
     ]
    }
   ],
   "source": [
    "# Forma o pipeline to para treinar os documentos.\n",
    "pipelineFit = pipeline.fit(data)\n",
    "dataset = pipelineFit.transform(data)\n",
    "dataset.show(5)"
   ]
  },
  {
   "cell_type": "code",
   "execution_count": 13,
   "metadata": {},
   "outputs": [
    {
     "name": "stdout",
     "output_type": "stream",
     "text": [
      "Training Dataset Count: 257050\n",
      "Test Dataset Count: 109573\n"
     ]
    }
   ],
   "source": [
    "# Define as sementes para reprodutibilidade\n",
    "(trainingData, testData) = dataset.randomSplit([0.7, 0.3], seed = 100)\n",
    "print(\"Training Dataset Count: \" + str(trainingData.count()))\n",
    "print(\"Test Dataset Count: \" + str(testData.count()))"
   ]
  },
  {
   "cell_type": "code",
   "execution_count": 14,
   "metadata": {},
   "outputs": [],
   "source": [
    "#calcula o tf-idf\n",
    "from pyspark.ml.feature import HashingTF, IDF\n",
    "hashingTF = HashingTF(inputCol=\"filtered\", outputCol=\"rawTF\", numFeatures=10000)\n",
    "tf = hashingTF.transform(trainingData)\n",
    "idf = IDF(inputCol=\"rawTF\", outputCol=\"IDF\", minDocFreq=5) #minDocFreq: remove sparse terms\n",
    "idfModel = idf.fit(tf) \n",
    "tfidf = idfModel.transform(tf)\n",
    "pipeline = Pipeline(stages=[regexTokenizer, stopwordsRemover, hashingTF, idf, label_stringIdx])"
   ]
  },
  {
   "cell_type": "code",
   "execution_count": 15,
   "metadata": {},
   "outputs": [
    {
     "name": "stdout",
     "output_type": "stream",
     "text": [
      "+-----+--------------------+\n",
      "|label|        features_sum|\n",
      "+-----+--------------------+\n",
      "|  0.0|[213413.0,297513....|\n",
      "|  1.0|[356079.0,119209....|\n",
      "+-----+--------------------+\n",
      "\n"
     ]
    }
   ],
   "source": [
    "#soma os vetores\n",
    "from pyspark.ml.linalg import SparseVector, DenseVector\n",
    "\n",
    "# Representacao do vetor de classes\n",
    "df = dataset.select('label','features')\n",
    "vetor_de_classes = df.rdd.mapValues(lambda v: v.toArray()) \\\n",
    "    .reduceByKey(lambda x, y: x + y) \\\n",
    "    .mapValues(lambda x: DenseVector(x)) \\\n",
    "    .toDF([\"label\", \"features_sum\"])\n",
    "    \n",
    "vetor_de_classes.show(2)"
   ]
  },
  {
   "cell_type": "code",
   "execution_count": 18,
   "metadata": {},
   "outputs": [
    {
     "name": "stdout",
     "output_type": "stream",
     "text": [
      "[213413.0,297513.0,121387.0,220272.0,55598.0,25257.0,28358.0,25570.0,8605.0,66065.0,0.0,62059.0,9689.0,123.0,81856.0,10723.0,55598.0,55598.0,36924.0,55600.0,54419.0,330.0,53716.0,330.0,330.0,0.0,0.0,0.0,0.0,0.0,0.0,0.0,0.0,0.0,0.0,0.0,50825.0,50876.0,42773.0,49698.0,11776.0,38366.0,0.0,0.0,608.0,0.0,0.0,0.0,0.0,0.0,37242.0,36712.0,36712.0,36712.0,36712.0,36712.0,6498.0,33076.0,26060.0,29311.0,25434.0,27981.0,25512.0,27675.0,27383.0,26772.0,1030.0,26438.0,25240.0,26042.0,23217.0,25463.0,25364.0,25364.0,25364.0,25364.0,25265.0,25248.0,25240.0,25240.0,25240.0,25240.0,25240.0,3146.0,18485.0,15179.0,23292.0,24022.0,23790.0,23790.0,115.0,0.0,23300.0,0.0,23296.0,23292.0,22938.0,97.0,0.0,0.0,0.0,0.0,0.0,0.0,0.0,0.0,18356.0,18356.0,18356.0,18356.0,18356.0,18356.0,18356.0,18356.0,16263.0,15276.0,0.0,13569.0,12491.0,8082.0,9105.0,6515.0,9644.0,3146.0,8819.0,2788.0,8494.0,8494.0,8320.0,8320.0,8314.0,8091.0,8074.0,8074.0,7836.0,7836.0,7762.0,7762.0,7704.0,2502.0,0.0,7071.0,7071.0,7071.0,7071.0,3538.0,6925.0,6925.0,6925.0,6925.0,2788.0,4371.0,6669.0,6498.0,6498.0,6498.0,6498.0,6498.0,6498.0,6498.0,6498.0,6498.0,0.0,3430.0,0.0,0.0,0.0,5934.0,1486.0,3146.0,272.0,3896.0,2759.0,0.0,0.0,0.0,0.0,0.0,0.0,4906.0,223.0,0.0,2173.0,2169.0,4395.0,4280.0,4099.0,4091.0,3885.0,3885.0,3885.0,2532.0,0.0,97.0,5.0,0.0,0.0,0.0,0.0,2809.0,1059.0,0.0,3146.0,3197.0,0.0,3146.0,3146.0,3146.0,3146.0,3146.0,3146.0,3011.0,3036.0,0.0,0.0,494.0,2809.0,2788.0,2788.0,2788.0,2788.0,2759.0,2725.0,272.0,446.0,2502.0,0.0,2169.0,2502.0,2502.0,2502.0,0.0,0.0,0.0,0.0,0.0,0.0,0.0,0.0,0.0,0.0,0.0,0.0,0.0,0.0,0.0,0.0,0.0,0.0,0.0,0.0,0.0,0.0,1853.0,0.0,0.0,0.0,2169.0,2169.0,2169.0,2169.0,2169.0,2169.0,2169.0,2169.0,507.0,115.0,943.0,0.0,0.0,0.0,0.0,0.0,0.0,0.0,0.0,0.0,0.0,0.0,0.0,0.0,0.0,0.0,0.0,0.0,0.0,0.0,245.0,469.0,0.0,0.0,13.0,13.0,13.0,0.0,0.0,1263.0,1263.0,1263.0,1263.0,1263.0,0.0,0.0,0.0,0.0,0.0,0.0,0.0,0.0,0.0,0.0,0.0,0.0,0.0,992.0,0.0,0.0,0.0,0.0,539.0,105.0,0.0,0.0,0.0,0.0,0.0,0.0,0.0,0.0,0.0,0.0,0.0,0.0,0.0,0.0,0.0,0.0,0.0,16.0,0.0,539.0,0.0,271.0,609.0,608.0,590.0,590.0,0.0,0.0,167.0,494.0,494.0,494.0,494.0,494.0,478.0,478.0,0.0,469.0,469.0,0.0,0.0,0.0,0.0,447.0,0.0,0.0,0.0,0.0,45.0,0.0,0.0,0.0,0.0,0.0,0.0,0.0,0.0,0.0,0.0,0.0,0.0,0.0,0.0,0.0,0.0,0.0,0.0,0.0,0.0,0.0,0.0,0.0,0.0,0.0,0.0,0.0,0.0,0.0,0.0,0.0,330.0,8.0,0.0,0.0,0.0,0.0,0.0,0.0,0.0,284.0,272.0,272.0,232.0,227.0,227.0,227.0,223.0,223.0,223.0,223.0,223.0,223.0,223.0,220.0,210.0,210.0,210.0,210.0,176.0,167.0,167.0,167.0,167.0,0.0,0.0,0.0,0.0,0.0,38.0,105.0,105.0,105.0,105.0,0.0,0.0,0.0,0.0,90.0,0.0,0.0,0.0,0.0,0.0,70.0,70.0,0.0,70.0,70.0,70.0,70.0,70.0,70.0,0.0,38.0,0.0,0.0,0.0,0.0,51.0,0.0,0.0,0.0,0.0,0.0,0.0,0.0,0.0,0.0,0.0,45.0,45.0,45.0,45.0,38.0,38.0,38.0,34.0,25.0,25.0,25.0,25.0,25.0,25.0,25.0,25.0,25.0,0.0,0.0,0.0,17.0,17.0,17.0,13.0,13.0,13.0,10.0,9.0,9.0,9.0,9.0,9.0,9.0,9.0,9.0,9.0,0.0,0.0,0.0,0.0,0.0,7.0,7.0,5.0,5.0,5.0,5.0,5.0]\n"
     ]
    }
   ],
   "source": [
    "# preparo para o calculo da distancia euclidiana para classe 0.0\n",
    "array0 = vetor_de_classes.filter('label = 0.0').collect()[0]['features_sum']\n",
    "print(array0)"
   ]
  },
  {
   "cell_type": "code",
   "execution_count": 19,
   "metadata": {},
   "outputs": [
    {
     "name": "stdout",
     "output_type": "stream",
     "text": [
      "[356079.0,119209.0,230316.0,0.0,105628.0,123876.0,113290.0,110890.0,111028.0,52814.0,115260.0,43134.0,78056.0,84578.0,0.0,67026.0,3495.0,3228.0,21675.0,577.0,707.0,53589.0,0.0,52814.0,52814.0,52818.0,52814.0,52814.0,52814.0,52814.0,52814.0,52814.0,52814.0,52814.0,52814.0,52814.0,775.0,0.0,7535.0,293.0,37458.0,5771.0,39194.0,39194.0,38420.0,38420.0,38420.0,38420.0,38420.0,38420.0,0.0,0.0,0.0,0.0,0.0,0.0,26934.0,0.0,4478.0,0.0,3775.0,1189.0,3175.0,0.0,0.0,0.0,25450.0,0.0,1042.0,0.0,2366.0,0.0,0.0,0.0,0.0,0.0,97.0,0.0,0.0,0.0,0.0,0.0,0.0,21675.0,6019.0,9064.0,775.0,0.0,0.0,0.0,23300.0,23300.0,0.0,23300.0,0.0,0.0,0.0,21675.0,21675.0,21675.0,21675.0,21675.0,21675.0,21675.0,21675.0,21675.0,0.0,0.0,0.0,0.0,0.0,0.0,0.0,0.0,0.0,459.0,14376.0,0.0,836.0,4996.0,2194.0,4124.0,0.0,6433.0,0.0,6019.0,0.0,0.0,0.0,0.0,0.0,0.0,0.0,0.0,0.0,0.0,0.0,0.0,0.0,4996.0,7428.0,0.0,0.0,0.0,0.0,3395.0,0.0,0.0,0.0,0.0,4025.0,2400.0,0.0,0.0,0.0,0.0,0.0,0.0,0.0,0.0,0.0,0.0,6433.0,2935.0,6074.0,6059.0,6019.0,0.0,4388.0,2403.0,4996.0,1346.0,2366.0,4996.0,4996.0,4996.0,4996.0,4996.0,4996.0,0.0,4530.0,4668.0,2403.0,2366.0,0.0,85.0,0.0,0.0,0.0,0.0,0.0,1346.0,3817.0,3699.0,3779.0,3775.0,3775.0,3699.0,3699.0,774.0,2366.0,3296.0,55.0,0.0,3149.0,0.0,0.0,0.0,0.0,0.0,0.0,97.0,0.0,2935.0,2935.0,2403.0,0.0,0.0,0.0,0.0,0.0,0.0,0.0,2400.0,2194.0,100.0,2534.0,354.0,0.0,0.0,0.0,2502.0,2432.0,2422.0,2403.0,2403.0,2403.0,2403.0,2403.0,2403.0,2403.0,2403.0,2403.0,2403.0,2400.0,2400.0,2400.0,2400.0,2400.0,2400.0,2400.0,2375.0,2375.0,516.0,2366.0,2232.0,2216.0,0.0,0.0,0.0,0.0,0.0,0.0,0.0,0.0,1346.0,1649.0,752.0,1649.0,1649.0,1649.0,1649.0,1632.0,1625.0,1625.0,1625.0,1625.0,1625.0,1625.0,1625.0,1625.0,1625.0,1625.0,1625.0,1625.0,1625.0,1625.0,1346.0,1116.0,1579.0,1418.0,1350.0,1346.0,1346.0,1346.0,1292.0,0.0,0.0,0.0,0.0,0.0,1116.0,1116.0,1116.0,1116.0,1116.0,1116.0,1116.0,1116.0,1116.0,1116.0,1116.0,1116.0,1116.0,85.0,1064.0,1064.0,1060.0,1032.0,354.0,775.0,872.0,828.0,775.0,775.0,775.0,775.0,774.0,774.0,774.0,774.0,774.0,774.0,718.0,708.0,708.0,708.0,700.0,647.0,647.0,85.0,622.0,342.0,1.0,0.0,0.0,0.0,586.0,586.0,358.0,0.0,0.0,0.0,0.0,0.0,0.0,0.0,470.0,0.0,0.0,463.0,463.0,463.0,459.0,0.0,445.0,442.0,414.0,414.0,355.0,364.0,364.0,364.0,364.0,364.0,364.0,364.0,364.0,364.0,364.0,364.0,354.0,354.0,354.0,354.0,354.0,354.0,354.0,354.0,354.0,354.0,354.0,354.0,346.0,342.0,342.0,342.0,342.0,342.0,342.0,342.0,0.0,293.0,293.0,293.0,293.0,293.0,293.0,293.0,293.0,0.0,0.0,0.0,0.0,0.0,0.0,0.0,0.0,0.0,0.0,0.0,0.0,0.0,0.0,0.0,0.0,0.0,0.0,0.0,0.0,0.0,0.0,0.0,0.0,159.0,159.0,159.0,158.0,157.0,106.0,0.0,0.0,0.0,0.0,100.0,97.0,97.0,97.0,0.0,85.0,84.0,76.0,76.0,76.0,0.0,0.0,70.0,0.0,0.0,0.0,0.0,0.0,0.0,61.0,22.0,55.0,55.0,55.0,55.0,0.0,47.0,47.0,47.0,47.0,47.0,47.0,47.0,47.0,47.0,47.0,0.0,0.0,0.0,0.0,0.0,0.0,0.0,0.0,0.0,0.0,0.0,0.0,0.0,0.0,0.0,0.0,0.0,22.0,22.0,22.0,0.0,0.0,0.0,0.0,0.0,0.0,0.0,0.0,0.0,0.0,0.0,0.0,0.0,0.0,0.0,0.0,8.0,8.0,8.0,8.0,8.0,0.0,0.0,0.0,0.0,0.0,0.0,0.0]\n"
     ]
    }
   ],
   "source": [
    "# preparo para o calculo da distancia euclidiana para classe 1.0\n",
    "array1 = vetor_de_classes.filter('label = 1.0').collect()[0]['features_sum']\n",
    "print(array1)"
   ]
  },
  {
   "cell_type": "code",
   "execution_count": 20,
   "metadata": {},
   "outputs": [
    {
     "name": "stdout",
     "output_type": "stream",
     "text": [
      "+-----+--------------------+---------+---------+\n",
      "|label|            features|distance0|distance1|\n",
      "+-----+--------------------+---------+---------+\n",
      "|  1.0|(528,[0,1,2,4,5,6...| 530766.2| 596561.5|\n",
      "|  1.0|(528,[0,1,2,4,5,6...| 530766.2| 596561.5|\n",
      "|  1.0|(528,[0,1,2,4,5,6...| 530766.2| 596561.5|\n",
      "|  1.0|(528,[0,1,2,4,5,6...| 530766.2| 596561.5|\n",
      "|  0.0|(528,[1,2,5,6,7,3...| 530767.7|596566.25|\n",
      "+-----+--------------------+---------+---------+\n",
      "only showing top 5 rows\n",
      "\n"
     ]
    }
   ],
   "source": [
    "# calcula a distancia euclidiana\n",
    "from scipy.spatial import distance\n",
    "from pyspark.sql.types import FloatType\n",
    "from pyspark.sql.functions import udf\n",
    "\n",
    "euc0 = udf(lambda features: distance.euclidean(features, array0), FloatType())\n",
    "euc1 = udf(lambda features: distance.euclidean(features, array1), FloatType())\n",
    "\n",
    "df = df.withColumn('distance0', euc0(df.features))\n",
    "df = df.withColumn('distance1', euc1(df.features))\n",
    "df.show(5)"
   ]
  },
  {
   "cell_type": "code",
   "execution_count": null,
   "metadata": {},
   "outputs": [],
   "source": []
  }
 ],
 "metadata": {
  "kernelspec": {
   "display_name": "Python 3",
   "language": "python",
   "name": "python3"
  },
  "language_info": {
   "codemirror_mode": {
    "name": "ipython",
    "version": 3
   },
   "file_extension": ".py",
   "mimetype": "text/x-python",
   "name": "python",
   "nbconvert_exporter": "python",
   "pygments_lexer": "ipython3",
   "version": "3.6.4"
  }
 },
 "nbformat": 4,
 "nbformat_minor": 2
}
