{
 "cells": [
  {
   "cell_type": "code",
   "execution_count": 1,
   "metadata": {},
   "outputs": [
    {
     "name": "stdout",
     "output_type": "stream",
     "text": [
      "CPU times: user 455 µs, sys: 260 µs, total: 715 µs\n",
      "Wall time: 1.4 ms\n"
     ]
    }
   ],
   "source": [
    "%%time\n",
    "#importa pacotes para usar SQL no contexto do Spark\n",
    "from pyspark.sql import SQLContext\n",
    "from pyspark.sql.types import *\n",
    "sqlContext = SQLContext(sc)"
   ]
  },
  {
   "cell_type": "code",
   "execution_count": 2,
   "metadata": {},
   "outputs": [
    {
     "name": "stdout",
     "output_type": "stream",
     "text": [
      "CPU times: user 0 ns, sys: 2.98 ms, total: 2.98 ms\n",
      "Wall time: 8.91 s\n"
     ]
    }
   ],
   "source": [
    "%%time\n",
    "#roda e lê a base\n",
    "data = sqlContext.read.load('./Data/base.csv', \n",
    "                          format='com.databricks.spark.csv', \n",
    "                          header='true', \n",
    "                          inferSchema='true')"
   ]
  },
  {
   "cell_type": "code",
   "execution_count": 3,
   "metadata": {},
   "outputs": [
    {
     "name": "stdout",
     "output_type": "stream",
     "text": [
      "+--------+--------------------+--------+--------+----------------+-------+----------+-------------------+---------------+--------------------+--------------+---------------------+-------------+-----+-----+----------+-----------+--------------------+\n",
      "|   CAMIS|                 DBA|    BORO|BUILDING|          STREET|ZIPCODE|     PHONE|CUISINE DESCRIPTION|INSPECTION DATE|              ACTION|VIOLATION CODE|VIOLATION DESCRIPTION|CRITICAL FLAG|SCORE|GRADE|GRADE DATE|RECORD DATE|     INSPECTION TYPE|\n",
      "+--------+--------------------+--------+--------+----------------+-------+----------+-------------------+---------------+--------------------+--------------+---------------------+-------------+-----+-----+----------+-----------+--------------------+\n",
      "|50010005|BLOOMBERG QUEENS ...|  QUEENS|    6626|METROPOLITAN AVE|  11379|2126476565|           American|     02/21/2017|Violations were c...|           10B| Plumbing not prop...| Not Critical|    7|    A|02/21/2017| 05/09/2018|Cycle Inspection ...|\n",
      "|41555612|      KINGSTON PIZZA|BROOKLYN|     395| KINGSTON AVENUE|  11225|7187737154|      Jewish/Kosher|     08/02/2016|Violations were c...|           04N| Filth flies or fo...|     Critical|   21|    B|08/02/2016| 05/09/2018|Cycle Inspection ...|\n",
      "+--------+--------------------+--------+--------+----------------+-------+----------+-------------------+---------------+--------------------+--------------+---------------------+-------------+-----+-----+----------+-----------+--------------------+\n",
      "only showing top 2 rows\n",
      "\n",
      "CPU times: user 1.21 ms, sys: 730 µs, total: 1.94 ms\n",
      "Wall time: 1.22 s\n"
     ]
    }
   ],
   "source": [
    "%%time\n",
    "#mostra as duas primeiras linhas da base\n",
    "data.show(2)"
   ]
  },
  {
   "cell_type": "code",
   "execution_count": 4,
   "metadata": {},
   "outputs": [
    {
     "name": "stdout",
     "output_type": "stream",
     "text": [
      "root\n",
      " |-- CAMIS: integer (nullable = true)\n",
      " |-- DBA: string (nullable = true)\n",
      " |-- BORO: string (nullable = true)\n",
      " |-- BUILDING: string (nullable = true)\n",
      " |-- STREET: string (nullable = true)\n",
      " |-- ZIPCODE: string (nullable = true)\n",
      " |-- PHONE: string (nullable = true)\n",
      " |-- CUISINE DESCRIPTION: string (nullable = true)\n",
      " |-- INSPECTION DATE: string (nullable = true)\n",
      " |-- ACTION: string (nullable = true)\n",
      " |-- VIOLATION CODE: string (nullable = true)\n",
      " |-- VIOLATION DESCRIPTION: string (nullable = true)\n",
      " |-- CRITICAL FLAG: string (nullable = true)\n",
      " |-- SCORE: integer (nullable = true)\n",
      " |-- GRADE: string (nullable = true)\n",
      " |-- GRADE DATE: string (nullable = true)\n",
      " |-- RECORD DATE: string (nullable = true)\n",
      " |-- INSPECTION TYPE: string (nullable = true)\n",
      "\n",
      "CPU times: user 0 ns, sys: 2.25 ms, total: 2.25 ms\n",
      "Wall time: 20.9 ms\n"
     ]
    }
   ],
   "source": [
    "%%time\n",
    "#imprime os rótulos e tipos de dado da base\n",
    "data.printSchema()"
   ]
  },
  {
   "cell_type": "code",
   "execution_count": 5,
   "metadata": {},
   "outputs": [
    {
     "name": "stdout",
     "output_type": "stream",
     "text": [
      "CPU times: user 2.97 ms, sys: 1.88 ms, total: 4.85 ms\n",
      "Wall time: 85.4 ms\n"
     ]
    }
   ],
   "source": [
    "%%time\n",
    "#exclui os dados não rotulados\n",
    "data = data[~data['CRITICAL FLAG'].isin(['Not Applicable'])]\n",
    "#retira as colunas da tabela que não serão utilizadas na classificação\n",
    "drop_list = ['CAMIS', 'DBA', 'BORO', 'BUILDING', 'STREET', 'ZIPCODE','CUISINE DESCRIPTION', 'PHONE', 'INSPECTION DATE', 'ACTION', 'VIOLATION CODE', 'SCORE', 'GRADE', 'GRADE DATE', 'RECORD DATE', 'INSPECTION TYPE']"
   ]
  },
  {
   "cell_type": "code",
   "execution_count": 6,
   "metadata": {},
   "outputs": [
    {
     "name": "stdout",
     "output_type": "stream",
     "text": [
      "+---------------------+-------------+\n",
      "|VIOLATION DESCRIPTION|CRITICAL FLAG|\n",
      "+---------------------+-------------+\n",
      "| Plumbing not prop...| Not Critical|\n",
      "| Filth flies or fo...|     Critical|\n",
      "| Hot food item not...|     Critical|\n",
      "| Food not protecte...|     Critical|\n",
      "| Food contact surf...|     Critical|\n",
      "+---------------------+-------------+\n",
      "only showing top 5 rows\n",
      "\n",
      "CPU times: user 0 ns, sys: 5.39 ms, total: 5.39 ms\n",
      "Wall time: 553 ms\n"
     ]
    }
   ],
   "source": [
    "%%time\n",
    "#mostra as colunas que serão utilizadas na classificação\n",
    "#CRITICAL FLAG É A COLUNA COM OS CLASSIFICADORES\n",
    "data = data.select([column for column in data.columns if column not in drop_list])\n",
    "data.show(5)"
   ]
  },
  {
   "cell_type": "code",
   "execution_count": 7,
   "metadata": {},
   "outputs": [
    {
     "name": "stdout",
     "output_type": "stream",
     "text": [
      "root\n",
      " |-- VIOLATION DESCRIPTION: string (nullable = true)\n",
      " |-- CRITICAL FLAG: string (nullable = true)\n",
      "\n",
      "CPU times: user 0 ns, sys: 1.52 ms, total: 1.52 ms\n",
      "Wall time: 6.35 ms\n"
     ]
    }
   ],
   "source": [
    "%%time\n",
    "#imprime os rótulos e tipos de dado da base\n",
    "data.printSchema()"
   ]
  },
  {
   "cell_type": "code",
   "execution_count": 8,
   "metadata": {},
   "outputs": [
    {
     "name": "stdout",
     "output_type": "stream",
     "text": [
      "+-------------+------+\n",
      "|CRITICAL FLAG| count|\n",
      "+-------------+------+\n",
      "|     Critical|203837|\n",
      "| Not Critical|161513|\n",
      "+-------------+------+\n",
      "\n",
      "CPU times: user 5.67 ms, sys: 5.12 ms, total: 10.8 ms\n",
      "Wall time: 2.86 s\n"
     ]
    }
   ],
   "source": [
    "%%time\n",
    "#conta quantas linhas há para cada classificador\n",
    "from pyspark.sql.functions import col\n",
    "data.groupBy(\"CRITICAL FLAG\") \\\n",
    "    .count() \\\n",
    "    .orderBy(col(\"count\").desc()) \\\n",
    "    .show()"
   ]
  },
  {
   "cell_type": "code",
   "execution_count": 9,
   "metadata": {
    "scrolled": true
   },
   "outputs": [
    {
     "name": "stdout",
     "output_type": "stream",
     "text": [
      "+---------------------+-----+\n",
      "|VIOLATION DESCRIPTION|count|\n",
      "+---------------------+-----+\n",
      "| Non-food contact ...|52751|\n",
      "| Facility not verm...|38287|\n",
      "| Evidence of mice ...|26791|\n",
      "| Food not protecte...|25289|\n",
      "| Food contact surf...|25199|\n",
      "+---------------------+-----+\n",
      "only showing top 5 rows\n",
      "\n",
      "CPU times: user 5.11 ms, sys: 676 µs, total: 5.79 ms\n",
      "Wall time: 1.71 s\n"
     ]
    }
   ],
   "source": [
    "%%time\n",
    "#conta as principais descrições\n",
    "data.groupBy(\"VIOLATION DESCRIPTION\") \\\n",
    "    .count() \\\n",
    "    .orderBy(col(\"count\").desc()) \\\n",
    "    .show(5)"
   ]
  },
  {
   "cell_type": "code",
   "execution_count": 10,
   "metadata": {},
   "outputs": [
    {
     "name": "stdout",
     "output_type": "stream",
     "text": [
      "CPU times: user 18.6 ms, sys: 57.2 ms, total: 75.9 ms\n",
      "Wall time: 193 ms\n"
     ]
    }
   ],
   "source": [
    "%%time\n",
    "#importa pacotes para tokenizar, remover stopwords e vetorizar\n",
    "from pyspark.ml.feature import RegexTokenizer, StopWordsRemover, CountVectorizer\n",
    "from pyspark.ml.classification import LogisticRegression\n",
    "# regular expression tokenizer\n",
    "regexTokenizer = RegexTokenizer(inputCol=\"VIOLATION DESCRIPTION\", outputCol=\"words\", pattern=\"\\\\W\")\n",
    "# stop words\n",
    "#usando stop list of 25 semantically non-selective words which are common in Reuters-RCV1.\n",
    "add_stopwords = [\"a\",\"an\", \"and\", \"are\", \"as\", \"at\", \"be\", \"by\", \"for\", \"from\", \"has\", \"he\", \"in\", \"is\", \"it\", \"its\", \"of\", \"on\", \"that\", \"the\", \"to\", \"was\", \"were\", \"will\", \"with\"] \n",
    "stopwordsRemover = StopWordsRemover(inputCol=\"words\", outputCol=\"filtered\").setStopWords(add_stopwords)\n",
    "# bag of words\n",
    "countVectors = CountVectorizer(inputCol=\"filtered\", outputCol=\"features\", vocabSize=10000, minDF=5)"
   ]
  },
  {
   "cell_type": "code",
   "execution_count": 11,
   "metadata": {},
   "outputs": [
    {
     "name": "stdout",
     "output_type": "stream",
     "text": [
      "CPU times: user 715 µs, sys: 1.75 ms, total: 2.46 ms\n",
      "Wall time: 15.2 ms\n"
     ]
    }
   ],
   "source": [
    "%%time\n",
    "#cria rótulos númericos para os classificadores\n",
    "from pyspark.ml import Pipeline\n",
    "from pyspark.ml.feature import OneHotEncoder, StringIndexer, VectorAssembler\n",
    "label_stringIdx = StringIndexer(inputCol = \"CRITICAL FLAG\", outputCol = \"label\")\n",
    "pipeline = Pipeline(stages=[regexTokenizer, stopwordsRemover, countVectors, label_stringIdx])"
   ]
  },
  {
   "cell_type": "code",
   "execution_count": 12,
   "metadata": {},
   "outputs": [
    {
     "name": "stdout",
     "output_type": "stream",
     "text": [
      "+---------------------+-------------+--------------------+--------------------+--------------------+-----+\n",
      "|VIOLATION DESCRIPTION|CRITICAL FLAG|               words|            filtered|            features|label|\n",
      "+---------------------+-------------+--------------------+--------------------+--------------------+-----+\n",
      "| Plumbing not prop...| Not Critical|[plumbing, not, p...|[plumbing, not, p...|(528,[0,2,5,12,13...|  1.0|\n",
      "| Filth flies or fo...|     Critical|[filth, flies, or...|[filth, flies, or...|(528,[0,1,3,4,11,...|  0.0|\n",
      "| Hot food item not...|     Critical|[hot, food, item,...|[hot, food, item,...|(528,[0,1,2,9,14,...|  0.0|\n",
      "| Food not protecte...|     Critical|[food, not, prote...|[food, not, prote...|(528,[0,1,2,20,36...|  0.0|\n",
      "| Food contact surf...|     Critical|[food, contact, s...|[food, contact, s...|(528,[1,2,5,6,7,3...|  0.0|\n",
      "+---------------------+-------------+--------------------+--------------------+--------------------+-----+\n",
      "only showing top 5 rows\n",
      "\n",
      "CPU times: user 22.6 ms, sys: 23.1 ms, total: 45.7 ms\n",
      "Wall time: 6.65 s\n"
     ]
    }
   ],
   "source": [
    "%%time\n",
    "# Forma o pipeline to para treinar os documentos.\n",
    "pipelineFit = pipeline.fit(data)\n",
    "dataset = pipelineFit.transform(data)\n",
    "dataset.show(5)"
   ]
  },
  {
   "cell_type": "code",
   "execution_count": 13,
   "metadata": {},
   "outputs": [
    {
     "name": "stdout",
     "output_type": "stream",
     "text": [
      "Training Dataset Count: 255865\n",
      "Test Dataset Count: 109485\n",
      "CPU times: user 4.44 ms, sys: 4.39 ms, total: 8.83 ms\n",
      "Wall time: 17 s\n"
     ]
    }
   ],
   "source": [
    "%%time\n",
    "# Define as sementes para reprodutibilidade\n",
    "(trainingData, testData) = dataset.randomSplit([0.7, 0.3], seed = 100)\n",
    "print(\"Training Dataset Count: \" + str(trainingData.count()))\n",
    "print(\"Test Dataset Count: \" + str(testData.count()))"
   ]
  },
  {
   "cell_type": "code",
   "execution_count": 14,
   "metadata": {},
   "outputs": [
    {
     "name": "stdout",
     "output_type": "stream",
     "text": [
      "CPU times: user 7.31 ms, sys: 15.2 ms, total: 22.5 ms\n",
      "Wall time: 11.6 s\n"
     ]
    }
   ],
   "source": [
    "%%time\n",
    "#calcula o tf-idf\n",
    "from pyspark.ml.feature import HashingTF, IDF\n",
    "hashingTF = HashingTF(inputCol=\"filtered\", outputCol=\"rawTF\", numFeatures=10000)\n",
    "tf = hashingTF.transform(trainingData)\n",
    "idf = IDF(inputCol=\"rawTF\", outputCol=\"IDF\", minDocFreq=5) #minDocFreq: remove termos sparsos\n",
    "idfModel = idf.fit(tf) \n",
    "tfidf = idfModel.transform(tf)\n",
    "pipeline = Pipeline(stages=[regexTokenizer, stopwordsRemover, hashingTF, idf, label_stringIdx])"
   ]
  },
  {
   "cell_type": "code",
   "execution_count": 15,
   "metadata": {},
   "outputs": [
    {
     "name": "stdout",
     "output_type": "stream",
     "text": [
      "+------------------------------+-------------+------------------------------+-----+----------+\n",
      "|         VIOLATION DESCRIPTION|CRITICAL FLAG|                   probability|label|prediction|\n",
      "+------------------------------+-------------+------------------------------+-----+----------+\n",
      "|Filth flies or food/refuse/...|     Critical|[0.9660538168008225,0.03394...|  0.0|       0.0|\n",
      "|Filth flies or food/refuse/...|     Critical|[0.9660538168008225,0.03394...|  0.0|       0.0|\n",
      "|Filth flies or food/refuse/...|     Critical|[0.9660538168008225,0.03394...|  0.0|       0.0|\n",
      "|Filth flies or food/refuse/...|     Critical|[0.9660538168008225,0.03394...|  0.0|       0.0|\n",
      "|Filth flies or food/refuse/...|     Critical|[0.9660538168008225,0.03394...|  0.0|       0.0|\n",
      "+------------------------------+-------------+------------------------------+-----+----------+\n",
      "only showing top 5 rows\n",
      "\n",
      "CPU times: user 8.01 ms, sys: 38.1 ms, total: 46.1 ms\n",
      "Wall time: 19.8 s\n"
     ]
    }
   ],
   "source": [
    "%%time\n",
    "#Meu modelo fará previsões e pontuação no conjunto de testes\n",
    "#Mostra as 30 principais previsões da maior probabilidade.\n",
    "\n",
    "lr = LogisticRegression(maxIter=20, regParam=0.3, elasticNetParam=0)\n",
    "lrModel = lr.fit(trainingData)\n",
    "predictions = lrModel.transform(testData)\n",
    "predictions.filter(predictions['prediction'] == 0) \\\n",
    "    .select(\"VIOLATION DESCRIPTION\",\"CRITICAL FLAG\",\"probability\",\"label\",\"prediction\") \\\n",
    "    .orderBy(\"probability\", ascending=False) \\\n",
    "    .show(n = 5, truncate = 30)"
   ]
  },
  {
   "cell_type": "code",
   "execution_count": 16,
   "metadata": {},
   "outputs": [
    {
     "name": "stdout",
     "output_type": "stream",
     "text": [
      "CPU times: user 3.78 ms, sys: 12.6 ms, total: 16.3 ms\n",
      "Wall time: 24.4 s\n"
     ]
    }
   ],
   "source": [
    "%%time\n",
    "from pyspark.ml.evaluation import MulticlassClassificationEvaluator\n",
    "evaluator = MulticlassClassificationEvaluator(predictionCol=\"prediction\")\n",
    "evaluator.evaluate(predictions)"
   ]
  },
  {
   "cell_type": "code",
   "execution_count": 17,
   "metadata": {},
   "outputs": [
    {
     "name": "stdout",
     "output_type": "stream",
     "text": [
      "+-----+--------------------+\n",
      "|label|        features_sum|\n",
      "+-----+--------------------+\n",
      "|  0.0|[212689.0,296246....|\n",
      "|  1.0|[355095.0,119057....|\n",
      "+-----+--------------------+\n",
      "\n",
      "CPU times: user 108 ms, sys: 56.4 ms, total: 165 ms\n",
      "Wall time: 14.3 s\n"
     ]
    }
   ],
   "source": [
    "%%time\n",
    "#soma os vetores\n",
    "from pyspark.ml.linalg import SparseVector, DenseVector\n",
    "\n",
    "# Representacao do vetor de classes\n",
    "df = dataset.select('label','features')\n",
    "vetor_de_classes = df.rdd.mapValues(lambda v: v.toArray()) \\\n",
    "    .reduceByKey(lambda x, y: x + y) \\\n",
    "    .mapValues(lambda x: DenseVector(x)) \\\n",
    "    .toDF([\"label\", \"features_sum\"])\n",
    "    \n",
    "vetor_de_classes.show(2)"
   ]
  },
  {
   "cell_type": "code",
   "execution_count": 18,
   "metadata": {},
   "outputs": [
    {
     "name": "stdout",
     "output_type": "stream",
     "text": [
      "CPU times: user 0 ns, sys: 4.93 ms, total: 4.93 ms\n",
      "Wall time: 330 ms\n"
     ]
    }
   ],
   "source": [
    "%%time\n",
    "# preparo para o calculo da distancia euclidiana para classe 0.0\n",
    "array0 = vetor_de_classes.filter('label = 0.0').collect()[0]['features_sum']\n",
    "#print(array0)"
   ]
  },
  {
   "cell_type": "code",
   "execution_count": 19,
   "metadata": {},
   "outputs": [
    {
     "name": "stdout",
     "output_type": "stream",
     "text": [
      "CPU times: user 828 µs, sys: 5.04 ms, total: 5.86 ms\n",
      "Wall time: 137 ms\n"
     ]
    }
   ],
   "source": [
    "%%time\n",
    "# preparo para o calculo da distancia euclidiana para classe 1.0\n",
    "array1 = vetor_de_classes.filter('label = 1.0').collect()[0]['features_sum']\n",
    "#print(array1)"
   ]
  },
  {
   "cell_type": "code",
   "execution_count": 20,
   "metadata": {},
   "outputs": [
    {
     "name": "stdout",
     "output_type": "stream",
     "text": [
      "CPU times: user 28.4 ms, sys: 5.38 ms, total: 33.8 ms\n",
      "Wall time: 140 ms\n"
     ]
    }
   ],
   "source": [
    "%%time\n",
    "# calcula a distancia euclidiana\n",
    "from scipy.spatial import distance\n",
    "\n",
    "df_com_distancias = df.rdd.mapValues(lambda v: v.toArray()) \\\n",
    "    .mapValues(lambda v: [distance.euclidean(v, array0), distance.euclidean(v, array1)]) \\\n",
    "    .toDF([\"label\",\"distances\"])"
   ]
  },
  {
   "cell_type": "code",
   "execution_count": 21,
   "metadata": {},
   "outputs": [
    {
     "name": "stdout",
     "output_type": "stream",
     "text": [
      "+-----+--------------------+\n",
      "|label|           distances|\n",
      "+-----+--------------------+\n",
      "|  1.0|[528328.845564010...|\n",
      "|  0.0|[528321.991013056...|\n",
      "|  0.0|[528329.913251180...|\n",
      "|  0.0|[528329.815984295...|\n",
      "|  0.0|[528329.948905038...|\n",
      "+-----+--------------------+\n",
      "only showing top 5 rows\n",
      "\n",
      "CPU times: user 0 ns, sys: 1.63 ms, total: 1.63 ms\n",
      "Wall time: 399 ms\n"
     ]
    }
   ],
   "source": [
    "%%time\n",
    "df_com_distancias.show(5)"
   ]
  },
  {
   "cell_type": "code",
   "execution_count": null,
   "metadata": {},
   "outputs": [],
   "source": []
  },
  {
   "cell_type": "code",
   "execution_count": null,
   "metadata": {},
   "outputs": [],
   "source": []
  }
 ],
 "metadata": {
  "kernelspec": {
   "display_name": "Python 2",
   "language": "python",
   "name": "python2"
  },
  "language_info": {
   "codemirror_mode": {
    "name": "ipython",
    "version": 2
   },
   "file_extension": ".py",
   "mimetype": "text/x-python",
   "name": "python",
   "nbconvert_exporter": "python",
   "pygments_lexer": "ipython2",
   "version": "2.7.12"
  }
 },
 "nbformat": 4,
 "nbformat_minor": 2
}
