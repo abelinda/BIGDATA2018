{
 "cells": [
  {
   "cell_type": "code",
   "execution_count": 58,
   "metadata": {},
   "outputs": [],
   "source": [
    "#https://towardsdatascience.com/multi-class-text-classification-with-pyspark-7d78d022ed35\n",
    "#importa pacotes\n",
    "from pyspark.sql import SQLContext\n",
    "from pyspark.sql.types import *\n",
    "sqlContext = SQLContext(sc)"
   ]
  },
  {
   "cell_type": "code",
   "execution_count": 59,
   "metadata": {},
   "outputs": [],
   "source": [
    "#abre o arquivo no contexto do SQL\n",
    "data = sqlContext.read.load('file:///C:/Spark/projetos/Data/base.csv', \n",
    "                          format='com.databricks.spark.csv', \n",
    "                          header='true', \n",
    "                          inferSchema='true')"
   ]
  },
  {
   "cell_type": "code",
   "execution_count": 60,
   "metadata": {},
   "outputs": [
    {
     "name": "stdout",
     "output_type": "stream",
     "text": [
      "+--------+-------------+--------+--------+------------------+-------+----------+-------------------+---------------+--------------------+--------------+---------------------+-------------+-----+-----+----------+-----------+--------------------+\n",
      "|   CAMIS|          DBA|    BORO|BUILDING|            STREET|ZIPCODE|     PHONE|CUISINE DESCRIPTION|INSPECTION DATE|              ACTION|VIOLATION CODE|VIOLATION DESCRIPTION|CRITICAL FLAG|SCORE|GRADE|GRADE DATE|RECORD DATE|     INSPECTION TYPE|\n",
      "+--------+-------------+--------+--------+------------------+-------+----------+-------------------+---------------+--------------------+--------------+---------------------+-------------+-----+-----+----------+-----------+--------------------+\n",
      "|50074025|    LILA CAFE|BROOKLYN|     911|        DEKALB AVE|  11221|3475292886|          Caribbean|     03/27/2018|Violations were c...|           10F| Non-food contact ...| Not Critical|   33| null|      null| 04/26/2018|Pre-permit (Non-o...|\n",
      "|41573314|SABANA LOUNGE|   BRONX|    1460|WESTCHESTER AVENUE|  10472|7186207100|            Spanish|     05/08/2015|Violations were c...|           10F| Non-food contact ...| Not Critical|    7|    A|05/08/2015| 04/26/2018|Cycle Inspection ...|\n",
      "+--------+-------------+--------+--------+------------------+-------+----------+-------------------+---------------+--------------------+--------------+---------------------+-------------+-----+-----+----------+-----------+--------------------+\n",
      "only showing top 2 rows\n",
      "\n"
     ]
    }
   ],
   "source": [
    "#mostra 5 primeiras linhas\n",
    "data.show(2)"
   ]
  },
  {
   "cell_type": "code",
   "execution_count": 61,
   "metadata": {
    "scrolled": true
   },
   "outputs": [
    {
     "name": "stdout",
     "output_type": "stream",
     "text": [
      "root\n",
      " |-- CAMIS: integer (nullable = true)\n",
      " |-- DBA: string (nullable = true)\n",
      " |-- BORO: string (nullable = true)\n",
      " |-- BUILDING: string (nullable = true)\n",
      " |-- STREET: string (nullable = true)\n",
      " |-- ZIPCODE: string (nullable = true)\n",
      " |-- PHONE: string (nullable = true)\n",
      " |-- CUISINE DESCRIPTION: string (nullable = true)\n",
      " |-- INSPECTION DATE: string (nullable = true)\n",
      " |-- ACTION: string (nullable = true)\n",
      " |-- VIOLATION CODE: string (nullable = true)\n",
      " |-- VIOLATION DESCRIPTION: string (nullable = true)\n",
      " |-- CRITICAL FLAG: string (nullable = true)\n",
      " |-- SCORE: integer (nullable = true)\n",
      " |-- GRADE: string (nullable = true)\n",
      " |-- GRADE DATE: string (nullable = true)\n",
      " |-- RECORD DATE: string (nullable = true)\n",
      " |-- INSPECTION TYPE: string (nullable = true)\n",
      "\n"
     ]
    }
   ],
   "source": [
    "#mostra o rótulo e os tipos dos dados\n",
    "data.printSchema()"
   ]
  },
  {
   "cell_type": "code",
   "execution_count": 62,
   "metadata": {},
   "outputs": [],
   "source": [
    "#retira os dados não classificados\n",
    "data = data[~data['CRITICAL FLAG'].isin(['Not Applicable'])]\n",
    "#retira as colunas não utilizadas da tabela\n",
    "drop_list = ['CAMIS', 'DBA', 'BORO', 'BUILDING', 'STREET', 'ZIPCODE','CUISINE DESCRIPTION', 'PHONE', 'INSPECTION DATE', 'ACTION', 'VIOLATION CODE', 'SCORE', 'GRADE', 'GRADE DATE', 'RECORD DATE', 'INSPECTION TYPE']"
   ]
  },
  {
   "cell_type": "code",
   "execution_count": 63,
   "metadata": {},
   "outputs": [
    {
     "name": "stdout",
     "output_type": "stream",
     "text": [
      "+---------------------+-------------+\n",
      "|VIOLATION DESCRIPTION|CRITICAL FLAG|\n",
      "+---------------------+-------------+\n",
      "| Non-food contact ...| Not Critical|\n",
      "| Non-food contact ...| Not Critical|\n",
      "| Non-food contact ...| Not Critical|\n",
      "| Non-food contact ...| Not Critical|\n",
      "| Food contact surf...|     Critical|\n",
      "+---------------------+-------------+\n",
      "only showing top 5 rows\n",
      "\n"
     ]
    }
   ],
   "source": [
    "#mostra a tabela já filtrada\n",
    "data = data.select([column for column in data.columns if column not in drop_list])\n",
    "data.show(5)"
   ]
  },
  {
   "cell_type": "code",
   "execution_count": 64,
   "metadata": {},
   "outputs": [
    {
     "name": "stdout",
     "output_type": "stream",
     "text": [
      "root\n",
      " |-- VIOLATION DESCRIPTION: string (nullable = true)\n",
      " |-- CRITICAL FLAG: string (nullable = true)\n",
      "\n"
     ]
    }
   ],
   "source": [
    "#mostra o rótulo e os tipos dos dados da tabela filtrada\n",
    "data.printSchema()"
   ]
  },
  {
   "cell_type": "code",
   "execution_count": 65,
   "metadata": {},
   "outputs": [
    {
     "name": "stdout",
     "output_type": "stream",
     "text": [
      "+-------------+------+\n",
      "|CRITICAL FLAG| count|\n",
      "+-------------+------+\n",
      "|     Critical|204546|\n",
      "| Not Critical|162077|\n",
      "+-------------+------+\n",
      "\n"
     ]
    }
   ],
   "source": [
    "#conta cada tipo de dado do documento já classificado\n",
    "from pyspark.sql.functions import col\n",
    "data.groupBy(\"CRITICAL FLAG\") \\\n",
    "    .count() \\\n",
    "    .orderBy(col(\"count\").desc()) \\\n",
    "    .show()"
   ]
  },
  {
   "cell_type": "code",
   "execution_count": 66,
   "metadata": {
    "scrolled": true
   },
   "outputs": [
    {
     "name": "stdout",
     "output_type": "stream",
     "text": [
      "+---------------------+-----+\n",
      "|VIOLATION DESCRIPTION|count|\n",
      "+---------------------+-----+\n",
      "| Non-food contact ...|52814|\n",
      "| Facility not verm...|38420|\n",
      "| Evidence of mice ...|26858|\n",
      "| Food not protecte...|25364|\n",
      "| Food contact surf...|25240|\n",
      "+---------------------+-----+\n",
      "only showing top 5 rows\n",
      "\n"
     ]
    }
   ],
   "source": [
    "#conta cada tipo de violação\n",
    "data.groupBy(\"VIOLATION DESCRIPTION\") \\\n",
    "    .count() \\\n",
    "    .orderBy(col(\"count\").desc()) \\\n",
    "    .show(5)"
   ]
  },
  {
   "cell_type": "code",
   "execution_count": 67,
   "metadata": {},
   "outputs": [],
   "source": [
    "#importa os pacotes para tokenizar, remover as stop-words e Count vectors (“document-term vectors”)\n",
    "from pyspark.ml.feature import RegexTokenizer, StopWordsRemover, CountVectorizer\n",
    "from pyspark.ml.classification import LogisticRegression\n",
    "# regular expression tokenizer\n",
    "regexTokenizer = RegexTokenizer(inputCol=\"VIOLATION DESCRIPTION\", outputCol=\"words\", pattern=\"\\\\W\")\n",
    "# stop words\n",
    "#using stop list of 25 semantically non-selective words which are common in Reuters-RCV1.\n",
    "add_stopwords = [\"a\",\"an\", \"and\", \"are\", \"as\", \"at\", \"be\", \"by\", \"for\", \"from\", \"has\", \"he\", \"in\", \"is\", \"it\", \"its\", \"of\", \"on\", \"that\", \"the\", \"to\", \"was\", \"were\", \"will\", \"with\"] \n",
    "stopwordsRemover = StopWordsRemover(inputCol=\"words\", outputCol=\"filtered\").setStopWords(add_stopwords)\n",
    "# bag of words count\n",
    "countVectors = CountVectorizer(inputCol=\"filtered\", outputCol=\"features\", vocabSize=10000, minDF=5)"
   ]
  },
  {
   "cell_type": "code",
   "execution_count": 69,
   "metadata": {},
   "outputs": [],
   "source": [
    "#StringIndexer encodes a string column of labels to a column of label indices. \n",
    "from pyspark.ml import Pipeline\n",
    "from pyspark.ml.feature import OneHotEncoder, StringIndexer, VectorAssembler\n",
    "label_stringIdx = StringIndexer(inputCol = \"CRITICAL FLAG\", outputCol = \"label\")\n",
    "pipeline = Pipeline(stages=[regexTokenizer, stopwordsRemover, countVectors, label_stringIdx])"
   ]
  },
  {
   "cell_type": "code",
   "execution_count": 70,
   "metadata": {
    "scrolled": true
   },
   "outputs": [
    {
     "name": "stdout",
     "output_type": "stream",
     "text": [
      "+---------------------+-------------+--------------------+--------------------+--------------------+-----+\n",
      "|VIOLATION DESCRIPTION|CRITICAL FLAG|               words|            filtered|            features|label|\n",
      "+---------------------+-------------+--------------------+--------------------+--------------------+-----+\n",
      "| Non-food contact ...| Not Critical|[non, food, conta...|[non, food, conta...|(528,[0,1,2,4,5,6...|  1.0|\n",
      "| Non-food contact ...| Not Critical|[non, food, conta...|[non, food, conta...|(528,[0,1,2,4,5,6...|  1.0|\n",
      "| Non-food contact ...| Not Critical|[non, food, conta...|[non, food, conta...|(528,[0,1,2,4,5,6...|  1.0|\n",
      "| Non-food contact ...| Not Critical|[non, food, conta...|[non, food, conta...|(528,[0,1,2,4,5,6...|  1.0|\n",
      "| Food contact surf...|     Critical|[food, contact, s...|[food, contact, s...|(528,[1,2,5,6,7,3...|  0.0|\n",
      "+---------------------+-------------+--------------------+--------------------+--------------------+-----+\n",
      "only showing top 5 rows\n",
      "\n"
     ]
    }
   ],
   "source": [
    "# Fit the pipeline to training documents.\n",
    "pipelineFit = pipeline.fit(data)\n",
    "dataset = pipelineFit.transform(data)\n",
    "dataset.show(5)"
   ]
  },
  {
   "cell_type": "code",
   "execution_count": 71,
   "metadata": {},
   "outputs": [
    {
     "name": "stdout",
     "output_type": "stream",
     "text": [
      "Training Dataset Count: 257050\n",
      "Test Dataset Count: 109573\n"
     ]
    }
   ],
   "source": [
    "# set seed for reproducibility\n",
    "(trainingData, testData) = dataset.randomSplit([0.7, 0.3], seed = 100)\n",
    "print(\"Training Dataset Count: \" + str(trainingData.count()))\n",
    "print(\"Test Dataset Count: \" + str(testData.count()))"
   ]
  },
  {
   "cell_type": "code",
   "execution_count": 72,
   "metadata": {},
   "outputs": [
    {
     "name": "stdout",
     "output_type": "stream",
     "text": [
      "+-------------+------------------------------+------------------------------+-----+----------+\n",
      "|CRITICAL FLAG|         VIOLATION DESCRIPTION|                   probability|label|prediction|\n",
      "+-------------+------------------------------+------------------------------+-----+----------+\n",
      "|     Critical|Filth flies or food/refuse/...|[0.9660886616772623,0.03391...|  0.0|       0.0|\n",
      "|     Critical|Filth flies or food/refuse/...|[0.9660886616772623,0.03391...|  0.0|       0.0|\n",
      "|     Critical|Filth flies or food/refuse/...|[0.9660886616772623,0.03391...|  0.0|       0.0|\n",
      "|     Critical|Filth flies or food/refuse/...|[0.9660886616772623,0.03391...|  0.0|       0.0|\n",
      "|     Critical|Filth flies or food/refuse/...|[0.9660886616772623,0.03391...|  0.0|       0.0|\n",
      "|     Critical|Filth flies or food/refuse/...|[0.9660886616772623,0.03391...|  0.0|       0.0|\n",
      "|     Critical|Filth flies or food/refuse/...|[0.9660886616772623,0.03391...|  0.0|       0.0|\n",
      "|     Critical|Filth flies or food/refuse/...|[0.9660886616772623,0.03391...|  0.0|       0.0|\n",
      "|     Critical|Filth flies or food/refuse/...|[0.9660886616772623,0.03391...|  0.0|       0.0|\n",
      "|     Critical|Filth flies or food/refuse/...|[0.9660886616772623,0.03391...|  0.0|       0.0|\n",
      "+-------------+------------------------------+------------------------------+-----+----------+\n",
      "only showing top 10 rows\n",
      "\n"
     ]
    }
   ],
   "source": [
    "#Logistic Regression using Count Vector Features\n",
    "lr = LogisticRegression(maxIter=20, regParam=0.3, elasticNetParam=0)\n",
    "lrModel = lr.fit(trainingData)\n",
    "predictions = lrModel.transform(testData)\n",
    "predictions.filter(predictions['prediction'] == 0) \\\n",
    "    .select(\"CRITICAL FLAG\",\"VIOLATION DESCRIPTION\",\"probability\",\"label\",\"prediction\") \\\n",
    "    .orderBy(\"probability\", ascending=False) \\\n",
    "    .show(n = 10, truncate = 30)"
   ]
  },
  {
   "cell_type": "code",
   "execution_count": 73,
   "metadata": {},
   "outputs": [
    {
     "data": {
      "text/plain": [
       "1.0"
      ]
     },
     "execution_count": 73,
     "metadata": {},
     "output_type": "execute_result"
    }
   ],
   "source": [
    "#ver acurácia\n",
    "from pyspark.ml.evaluation import MulticlassClassificationEvaluator\n",
    "evaluator = MulticlassClassificationEvaluator(predictionCol=\"prediction\")\n",
    "evaluator.evaluate(predictions)"
   ]
  },
  {
   "cell_type": "code",
   "execution_count": 74,
   "metadata": {},
   "outputs": [],
   "source": [
    "#faz o tf-idf\n",
    "from pyspark.ml.feature import HashingTF, IDF\n",
    "hashingTF = HashingTF(inputCol=\"filtered\", outputCol=\"rawFeatures\", numFeatures=100000)\n",
    "idf = IDF(inputCol=\"rawFeatures\", outputCol=\"features\", minDocFreq=5) #minDocFreq: remove sparse terms\n",
    "pipeline = Pipeline(stages=[regexTokenizer, stopwordsRemover, hashingTF, idf, label_stringIdx])"
   ]
  },
  {
   "cell_type": "code",
   "execution_count": 75,
   "metadata": {},
   "outputs": [],
   "source": [
    "pipelineFit = pipeline.fit(data)\n",
    "dataset = pipelineFit.transform(data)\n",
    "(trainingData, testData) = dataset.randomSplit([0.7, 0.3], seed = 100)"
   ]
  },
  {
   "cell_type": "code",
   "execution_count": 76,
   "metadata": {},
   "outputs": [
    {
     "name": "stdout",
     "output_type": "stream",
     "text": [
      "+------------------------------+-------------+------------------------------+-----+----------+\n",
      "|         VIOLATION DESCRIPTION|CRITICAL FLAG|                   probability|label|prediction|\n",
      "+------------------------------+-------------+------------------------------+-----+----------+\n",
      "|Filth flies or food/refuse/...|     Critical|[0.966088661677262,0.033911...|  0.0|       0.0|\n",
      "|Filth flies or food/refuse/...|     Critical|[0.966088661677262,0.033911...|  0.0|       0.0|\n",
      "|Filth flies or food/refuse/...|     Critical|[0.966088661677262,0.033911...|  0.0|       0.0|\n",
      "|Filth flies or food/refuse/...|     Critical|[0.966088661677262,0.033911...|  0.0|       0.0|\n",
      "|Filth flies or food/refuse/...|     Critical|[0.966088661677262,0.033911...|  0.0|       0.0|\n",
      "|Filth flies or food/refuse/...|     Critical|[0.966088661677262,0.033911...|  0.0|       0.0|\n",
      "|Filth flies or food/refuse/...|     Critical|[0.966088661677262,0.033911...|  0.0|       0.0|\n",
      "|Filth flies or food/refuse/...|     Critical|[0.966088661677262,0.033911...|  0.0|       0.0|\n",
      "|Filth flies or food/refuse/...|     Critical|[0.966088661677262,0.033911...|  0.0|       0.0|\n",
      "|Filth flies or food/refuse/...|     Critical|[0.966088661677262,0.033911...|  0.0|       0.0|\n",
      "+------------------------------+-------------+------------------------------+-----+----------+\n",
      "only showing top 10 rows\n",
      "\n"
     ]
    }
   ],
   "source": [
    "#predição usando regressão logística\n",
    "lr = LogisticRegression(maxIter=20, regParam=0.3, elasticNetParam=0)\n",
    "lrModel = lr.fit(trainingData)\n",
    "predictions = lrModel.transform(testData)\n",
    "predictions.filter(predictions['prediction'] == 0) \\\n",
    "    .select(\"VIOLATION DESCRIPTION\",\"CRITICAL FLAG\",\"probability\",\"label\",\"prediction\") \\\n",
    "    .orderBy(\"probability\", ascending=False) \\\n",
    "    .show(n = 10, truncate = 30)"
   ]
  },
  {
   "cell_type": "code",
   "execution_count": 77,
   "metadata": {},
   "outputs": [
    {
     "data": {
      "text/plain": [
       "1.0"
      ]
     },
     "execution_count": 77,
     "metadata": {},
     "output_type": "execute_result"
    }
   ],
   "source": [
    "#ver acurácia da regressão\n",
    "evaluator = MulticlassClassificationEvaluator(predictionCol=\"prediction\")\n",
    "evaluator.evaluate(predictions)"
   ]
  },
  {
   "cell_type": "code",
   "execution_count": null,
   "metadata": {},
   "outputs": [],
   "source": [
    "#cria os vetores das classes do spark (feito usando soma de vetores somando os de mesmo índice)"
   ]
  },
  {
   "cell_type": "code",
   "execution_count": null,
   "metadata": {},
   "outputs": [],
   "source": [
    "#cria os atributos medindo a distância euclidiana das linhas originais para os vetores das classes"
   ]
  },
  {
   "cell_type": "code",
   "execution_count": null,
   "metadata": {},
   "outputs": [],
   "source": [
    "#mostra as colunas dos atributos"
   ]
  }
 ],
 "metadata": {
  "kernelspec": {
   "display_name": "Python 3",
   "language": "python",
   "name": "python3"
  },
  "language_info": {
   "codemirror_mode": {
    "name": "ipython",
    "version": 3
   },
   "file_extension": ".py",
   "mimetype": "text/x-python",
   "name": "python",
   "nbconvert_exporter": "python",
   "pygments_lexer": "ipython3",
   "version": "3.6.4"
  }
 },
 "nbformat": 4,
 "nbformat_minor": 2
}
